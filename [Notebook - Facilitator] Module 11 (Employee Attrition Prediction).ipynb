{
 "cells": [
  {
   "cell_type": "markdown",
   "metadata": {
    "id": "uClORbqu8Kd_"
   },
   "source": [
    "\n",
    "# Employee Attrition Rate using Regression\n",
    "\n",
    "## Introduction\n",
    "\n",
    "Artificial intelligence is commonly used in various trade circles to automate processes, gather insights on business, and speed up processes. You will use Python to study the usage of artificial intelligence in real-life scenarios - how AI actually impacts industries. \n",
    "\n",
    "Employees are the most important entities in an organization. Successful employees offer a lot to organisations. In this notebook, we will use AI to predict the attrition rate of employees or how often a company can retain employees.\n",
    "\n",
    "## Context\n",
    "\n",
    "We will be working with the dataset containing employee attrition rates, which is collected by Hackerearth and uploaded at [Kaggle](https://www.kaggle.com/blurredmachine/hackerearth-employee-attrition). We will use regression to predict attrition rates and see how successful is our model.\n",
    "\n",
    "\n",
    "\n",
    "## Use Python to open csv files\n",
    "\n",
    "We will use the [scikit-learn](https://scikit-learn.org/stable/) and [pandas](https://pandas.pydata.org/) to work with our dataset. Scikit-learn is a very useful machine learning library that provides efficient tools for predictive data analysis.  Pandas is a popular Python library for data science. It offers powerful and flexible data structures to make data manipulation and analysis easier.\n",
    "\n",
    "\n",
    "## Import Libraries\n"
   ]
  },
  {
   "cell_type": "code",
   "execution_count": 6,
   "metadata": {
    "id": "R4ARBxgN-zWr"
   },
   "outputs": [],
   "source": [
    "import pandas as pd\n",
    "import numpy as np\n",
    "import seaborn as sns\n",
    "import matplotlib.pyplot as plt\n",
    "%matplotlib inline\n",
    "from sklearn.model_selection import train_test_split\n",
    "from sklearn.tree import DecisionTreeClassifier\n",
    "from sklearn import metrics\n",
    "\n",
    "from sklearn.linear_model import LinearRegression \n",
    "from sklearn.linear_model import Ridge\n",
    "from sklearn.linear_model import Lasso\n",
    "\n",
    "from sklearn.linear_model import Lasso\n",
    "from sklearn.linear_model import ElasticNet\n",
    "from sklearn.neighbors import KNeighborsRegressor\n",
    "from sklearn.tree import DecisionTreeRegressor\n",
    "\n",
    "from sklearn.metrics import mean_squared_error"
   ]
  },
  {
   "cell_type": "markdown",
   "metadata": {
    "id": "6xBB32V___tL"
   },
   "source": [
    "### Importing the Dataset\n",
    "\n",
    "The dataset contains employee attrition rates. Let us visualize the dataset.\n",
    "\n"
   ]
  },
  {
   "cell_type": "code",
   "execution_count": 7,
   "metadata": {
    "id": "de2cFC5p-6kq"
   },
   "outputs": [],
   "source": [
    "train = pd.read_csv(\"[Dataset]_Module11_Train_(Employee).csv\") \n",
    "test = pd.read_csv(\"[Dataset]_Module11_Test_(Employee).csv\")"
   ]
  },
  {
   "cell_type": "markdown",
   "metadata": {
    "id": "rVP7JXphAuqC"
   },
   "source": [
    "## Task 1: Print the columns of the training set"
   ]
  },
  {
   "cell_type": "code",
   "execution_count": 8,
   "metadata": {
    "colab": {
     "base_uri": "https://localhost:8080/"
    },
    "id": "Rb_JYsztAZ51",
    "outputId": "8c20d9ea-c305-4fdc-859f-ec4c34990c7b"
   },
   "outputs": [
    {
     "data": {
      "text/plain": [
       "Index(['Employee_ID', 'Gender', 'Age', 'Education_Level',\n",
       "       'Relationship_Status', 'Hometown', 'Unit', 'Decision_skill_possess',\n",
       "       'Time_of_service', 'Time_since_promotion', 'growth_rate', 'Travel_Rate',\n",
       "       'Post_Level', 'Pay_Scale', 'Compensation_and_Benefits',\n",
       "       'Work_Life_balance', 'VAR1', 'VAR2', 'VAR3', 'VAR4', 'VAR5', 'VAR6',\n",
       "       'VAR7', 'Attrition_rate'],\n",
       "      dtype='object')"
      ]
     },
     "execution_count": 8,
     "metadata": {},
     "output_type": "execute_result"
    }
   ],
   "source": [
    "train.columns"
   ]
  },
  {
   "cell_type": "code",
   "execution_count": 9,
   "metadata": {
    "colab": {
     "base_uri": "https://localhost:8080/",
     "height": 274
    },
    "id": "B3SY7OdMA-Dg",
    "outputId": "882eb117-4da3-475a-facc-8708840c10c8"
   },
   "outputs": [
    {
     "name": "stdout",
     "output_type": "stream",
     "text": [
      "(7000, 24)\n"
     ]
    },
    {
     "data": {
      "text/html": [
       "<div>\n",
       "<style scoped>\n",
       "    .dataframe tbody tr th:only-of-type {\n",
       "        vertical-align: middle;\n",
       "    }\n",
       "\n",
       "    .dataframe tbody tr th {\n",
       "        vertical-align: top;\n",
       "    }\n",
       "\n",
       "    .dataframe thead th {\n",
       "        text-align: right;\n",
       "    }\n",
       "</style>\n",
       "<table border=\"1\" class=\"dataframe\">\n",
       "  <thead>\n",
       "    <tr style=\"text-align: right;\">\n",
       "      <th></th>\n",
       "      <th>Employee_ID</th>\n",
       "      <th>Gender</th>\n",
       "      <th>Age</th>\n",
       "      <th>Education_Level</th>\n",
       "      <th>Relationship_Status</th>\n",
       "      <th>Hometown</th>\n",
       "      <th>Unit</th>\n",
       "      <th>Decision_skill_possess</th>\n",
       "      <th>Time_of_service</th>\n",
       "      <th>Time_since_promotion</th>\n",
       "      <th>...</th>\n",
       "      <th>Compensation_and_Benefits</th>\n",
       "      <th>Work_Life_balance</th>\n",
       "      <th>VAR1</th>\n",
       "      <th>VAR2</th>\n",
       "      <th>VAR3</th>\n",
       "      <th>VAR4</th>\n",
       "      <th>VAR5</th>\n",
       "      <th>VAR6</th>\n",
       "      <th>VAR7</th>\n",
       "      <th>Attrition_rate</th>\n",
       "    </tr>\n",
       "  </thead>\n",
       "  <tbody>\n",
       "    <tr>\n",
       "      <th>0</th>\n",
       "      <td>EID_23371</td>\n",
       "      <td>F</td>\n",
       "      <td>42.0</td>\n",
       "      <td>4</td>\n",
       "      <td>Married</td>\n",
       "      <td>Franklin</td>\n",
       "      <td>IT</td>\n",
       "      <td>Conceptual</td>\n",
       "      <td>4.0</td>\n",
       "      <td>4</td>\n",
       "      <td>...</td>\n",
       "      <td>type2</td>\n",
       "      <td>3.0</td>\n",
       "      <td>4</td>\n",
       "      <td>0.7516</td>\n",
       "      <td>1.8688</td>\n",
       "      <td>2.0</td>\n",
       "      <td>4</td>\n",
       "      <td>5</td>\n",
       "      <td>3</td>\n",
       "      <td>0.1841</td>\n",
       "    </tr>\n",
       "    <tr>\n",
       "      <th>1</th>\n",
       "      <td>EID_18000</td>\n",
       "      <td>M</td>\n",
       "      <td>24.0</td>\n",
       "      <td>3</td>\n",
       "      <td>Single</td>\n",
       "      <td>Springfield</td>\n",
       "      <td>Logistics</td>\n",
       "      <td>Analytical</td>\n",
       "      <td>5.0</td>\n",
       "      <td>4</td>\n",
       "      <td>...</td>\n",
       "      <td>type2</td>\n",
       "      <td>4.0</td>\n",
       "      <td>3</td>\n",
       "      <td>-0.9612</td>\n",
       "      <td>-0.4537</td>\n",
       "      <td>2.0</td>\n",
       "      <td>3</td>\n",
       "      <td>5</td>\n",
       "      <td>3</td>\n",
       "      <td>0.0670</td>\n",
       "    </tr>\n",
       "    <tr>\n",
       "      <th>2</th>\n",
       "      <td>EID_3891</td>\n",
       "      <td>F</td>\n",
       "      <td>58.0</td>\n",
       "      <td>3</td>\n",
       "      <td>Married</td>\n",
       "      <td>Clinton</td>\n",
       "      <td>Quality</td>\n",
       "      <td>Conceptual</td>\n",
       "      <td>27.0</td>\n",
       "      <td>3</td>\n",
       "      <td>...</td>\n",
       "      <td>type2</td>\n",
       "      <td>1.0</td>\n",
       "      <td>4</td>\n",
       "      <td>-0.9612</td>\n",
       "      <td>-0.4537</td>\n",
       "      <td>3.0</td>\n",
       "      <td>3</td>\n",
       "      <td>8</td>\n",
       "      <td>3</td>\n",
       "      <td>0.0851</td>\n",
       "    </tr>\n",
       "    <tr>\n",
       "      <th>3</th>\n",
       "      <td>EID_17492</td>\n",
       "      <td>F</td>\n",
       "      <td>26.0</td>\n",
       "      <td>3</td>\n",
       "      <td>Single</td>\n",
       "      <td>Lebanon</td>\n",
       "      <td>Human Resource Management</td>\n",
       "      <td>Behavioral</td>\n",
       "      <td>4.0</td>\n",
       "      <td>3</td>\n",
       "      <td>...</td>\n",
       "      <td>type2</td>\n",
       "      <td>1.0</td>\n",
       "      <td>3</td>\n",
       "      <td>-1.8176</td>\n",
       "      <td>-0.4537</td>\n",
       "      <td>NaN</td>\n",
       "      <td>3</td>\n",
       "      <td>7</td>\n",
       "      <td>3</td>\n",
       "      <td>0.0668</td>\n",
       "    </tr>\n",
       "    <tr>\n",
       "      <th>4</th>\n",
       "      <td>EID_22534</td>\n",
       "      <td>F</td>\n",
       "      <td>31.0</td>\n",
       "      <td>1</td>\n",
       "      <td>Married</td>\n",
       "      <td>Springfield</td>\n",
       "      <td>Logistics</td>\n",
       "      <td>Conceptual</td>\n",
       "      <td>5.0</td>\n",
       "      <td>4</td>\n",
       "      <td>...</td>\n",
       "      <td>type3</td>\n",
       "      <td>3.0</td>\n",
       "      <td>1</td>\n",
       "      <td>0.7516</td>\n",
       "      <td>-0.4537</td>\n",
       "      <td>2.0</td>\n",
       "      <td>2</td>\n",
       "      <td>8</td>\n",
       "      <td>2</td>\n",
       "      <td>0.1827</td>\n",
       "    </tr>\n",
       "  </tbody>\n",
       "</table>\n",
       "<p>5 rows × 24 columns</p>\n",
       "</div>"
      ],
      "text/plain": [
       "  Employee_ID Gender   Age  Education_Level Relationship_Status     Hometown  \\\n",
       "0   EID_23371      F  42.0                4             Married     Franklin   \n",
       "1   EID_18000      M  24.0                3              Single  Springfield   \n",
       "2    EID_3891      F  58.0                3             Married      Clinton   \n",
       "3   EID_17492      F  26.0                3              Single      Lebanon   \n",
       "4   EID_22534      F  31.0                1             Married  Springfield   \n",
       "\n",
       "                        Unit Decision_skill_possess  Time_of_service  \\\n",
       "0                         IT             Conceptual              4.0   \n",
       "1                  Logistics             Analytical              5.0   \n",
       "2                    Quality             Conceptual             27.0   \n",
       "3  Human Resource Management             Behavioral              4.0   \n",
       "4                  Logistics             Conceptual              5.0   \n",
       "\n",
       "   Time_since_promotion  ...  Compensation_and_Benefits  Work_Life_balance  \\\n",
       "0                     4  ...                      type2                3.0   \n",
       "1                     4  ...                      type2                4.0   \n",
       "2                     3  ...                      type2                1.0   \n",
       "3                     3  ...                      type2                1.0   \n",
       "4                     4  ...                      type3                3.0   \n",
       "\n",
       "   VAR1    VAR2    VAR3  VAR4  VAR5  VAR6  VAR7  Attrition_rate  \n",
       "0     4  0.7516  1.8688   2.0     4     5     3          0.1841  \n",
       "1     3 -0.9612 -0.4537   2.0     3     5     3          0.0670  \n",
       "2     4 -0.9612 -0.4537   3.0     3     8     3          0.0851  \n",
       "3     3 -1.8176 -0.4537   NaN     3     7     3          0.0668  \n",
       "4     1  0.7516 -0.4537   2.0     2     8     2          0.1827  \n",
       "\n",
       "[5 rows x 24 columns]"
      ]
     },
     "execution_count": 9,
     "metadata": {},
     "output_type": "execute_result"
    }
   ],
   "source": [
    "print(train.shape)\n",
    "train.head()"
   ]
  },
  {
   "cell_type": "markdown",
   "metadata": {
    "id": "puSoD2YOBSto"
   },
   "source": [
    "### Data Description\n",
    "\n",
    "Let us see how the data is distributed. We can visualize the mean, max, and min value of each column alongside other characteristics."
   ]
  },
  {
   "cell_type": "code",
   "execution_count": 10,
   "metadata": {
    "colab": {
     "base_uri": "https://localhost:8080/",
     "height": 314
    },
    "id": "7pvRvVWrBB6d",
    "outputId": "bddc0e16-0cc9-4d8b-9a78-2a955c39268a"
   },
   "outputs": [
    {
     "data": {
      "text/html": [
       "<div>\n",
       "<style scoped>\n",
       "    .dataframe tbody tr th:only-of-type {\n",
       "        vertical-align: middle;\n",
       "    }\n",
       "\n",
       "    .dataframe tbody tr th {\n",
       "        vertical-align: top;\n",
       "    }\n",
       "\n",
       "    .dataframe thead th {\n",
       "        text-align: right;\n",
       "    }\n",
       "</style>\n",
       "<table border=\"1\" class=\"dataframe\">\n",
       "  <thead>\n",
       "    <tr style=\"text-align: right;\">\n",
       "      <th></th>\n",
       "      <th>Age</th>\n",
       "      <th>Education_Level</th>\n",
       "      <th>Time_of_service</th>\n",
       "      <th>Time_since_promotion</th>\n",
       "      <th>growth_rate</th>\n",
       "      <th>Travel_Rate</th>\n",
       "      <th>Post_Level</th>\n",
       "      <th>Pay_Scale</th>\n",
       "      <th>Work_Life_balance</th>\n",
       "      <th>VAR1</th>\n",
       "      <th>VAR2</th>\n",
       "      <th>VAR3</th>\n",
       "      <th>VAR4</th>\n",
       "      <th>VAR5</th>\n",
       "      <th>VAR6</th>\n",
       "      <th>VAR7</th>\n",
       "      <th>Attrition_rate</th>\n",
       "    </tr>\n",
       "  </thead>\n",
       "  <tbody>\n",
       "    <tr>\n",
       "      <th>count</th>\n",
       "      <td>6588.000000</td>\n",
       "      <td>7000.000000</td>\n",
       "      <td>6856.000000</td>\n",
       "      <td>7000.000000</td>\n",
       "      <td>7000.000000</td>\n",
       "      <td>7000.000000</td>\n",
       "      <td>7000.000000</td>\n",
       "      <td>6991.000000</td>\n",
       "      <td>6989.000000</td>\n",
       "      <td>7000.000000</td>\n",
       "      <td>6423.000000</td>\n",
       "      <td>7000.000000</td>\n",
       "      <td>6344.000000</td>\n",
       "      <td>7000.000000</td>\n",
       "      <td>7000.000000</td>\n",
       "      <td>7000.000000</td>\n",
       "      <td>7000.000000</td>\n",
       "    </tr>\n",
       "    <tr>\n",
       "      <th>mean</th>\n",
       "      <td>39.622799</td>\n",
       "      <td>3.187857</td>\n",
       "      <td>13.385064</td>\n",
       "      <td>2.367143</td>\n",
       "      <td>47.064286</td>\n",
       "      <td>0.817857</td>\n",
       "      <td>2.798000</td>\n",
       "      <td>6.006294</td>\n",
       "      <td>2.387895</td>\n",
       "      <td>3.098571</td>\n",
       "      <td>-0.008126</td>\n",
       "      <td>-0.013606</td>\n",
       "      <td>1.891078</td>\n",
       "      <td>2.834143</td>\n",
       "      <td>7.101286</td>\n",
       "      <td>3.257000</td>\n",
       "      <td>0.189376</td>\n",
       "    </tr>\n",
       "    <tr>\n",
       "      <th>std</th>\n",
       "      <td>13.606920</td>\n",
       "      <td>1.065102</td>\n",
       "      <td>10.364188</td>\n",
       "      <td>1.149395</td>\n",
       "      <td>15.761406</td>\n",
       "      <td>0.648205</td>\n",
       "      <td>1.163721</td>\n",
       "      <td>2.058435</td>\n",
       "      <td>1.122786</td>\n",
       "      <td>0.836377</td>\n",
       "      <td>0.989850</td>\n",
       "      <td>0.986933</td>\n",
       "      <td>0.529403</td>\n",
       "      <td>0.938945</td>\n",
       "      <td>1.164262</td>\n",
       "      <td>0.925319</td>\n",
       "      <td>0.185753</td>\n",
       "    </tr>\n",
       "    <tr>\n",
       "      <th>min</th>\n",
       "      <td>19.000000</td>\n",
       "      <td>1.000000</td>\n",
       "      <td>0.000000</td>\n",
       "      <td>0.000000</td>\n",
       "      <td>20.000000</td>\n",
       "      <td>0.000000</td>\n",
       "      <td>1.000000</td>\n",
       "      <td>1.000000</td>\n",
       "      <td>1.000000</td>\n",
       "      <td>1.000000</td>\n",
       "      <td>-1.817600</td>\n",
       "      <td>-2.776200</td>\n",
       "      <td>1.000000</td>\n",
       "      <td>1.000000</td>\n",
       "      <td>5.000000</td>\n",
       "      <td>1.000000</td>\n",
       "      <td>0.000000</td>\n",
       "    </tr>\n",
       "    <tr>\n",
       "      <th>25%</th>\n",
       "      <td>27.000000</td>\n",
       "      <td>3.000000</td>\n",
       "      <td>5.000000</td>\n",
       "      <td>1.000000</td>\n",
       "      <td>33.000000</td>\n",
       "      <td>0.000000</td>\n",
       "      <td>2.000000</td>\n",
       "      <td>5.000000</td>\n",
       "      <td>1.000000</td>\n",
       "      <td>3.000000</td>\n",
       "      <td>-0.961200</td>\n",
       "      <td>-0.453700</td>\n",
       "      <td>2.000000</td>\n",
       "      <td>2.000000</td>\n",
       "      <td>6.000000</td>\n",
       "      <td>3.000000</td>\n",
       "      <td>0.070400</td>\n",
       "    </tr>\n",
       "    <tr>\n",
       "      <th>50%</th>\n",
       "      <td>37.000000</td>\n",
       "      <td>3.000000</td>\n",
       "      <td>10.000000</td>\n",
       "      <td>2.000000</td>\n",
       "      <td>47.000000</td>\n",
       "      <td>1.000000</td>\n",
       "      <td>3.000000</td>\n",
       "      <td>6.000000</td>\n",
       "      <td>2.000000</td>\n",
       "      <td>3.000000</td>\n",
       "      <td>-0.104800</td>\n",
       "      <td>-0.453700</td>\n",
       "      <td>2.000000</td>\n",
       "      <td>3.000000</td>\n",
       "      <td>7.000000</td>\n",
       "      <td>3.000000</td>\n",
       "      <td>0.142650</td>\n",
       "    </tr>\n",
       "    <tr>\n",
       "      <th>75%</th>\n",
       "      <td>52.000000</td>\n",
       "      <td>4.000000</td>\n",
       "      <td>21.000000</td>\n",
       "      <td>3.000000</td>\n",
       "      <td>61.000000</td>\n",
       "      <td>1.000000</td>\n",
       "      <td>3.000000</td>\n",
       "      <td>8.000000</td>\n",
       "      <td>3.000000</td>\n",
       "      <td>3.000000</td>\n",
       "      <td>0.751600</td>\n",
       "      <td>0.707500</td>\n",
       "      <td>2.000000</td>\n",
       "      <td>3.000000</td>\n",
       "      <td>8.000000</td>\n",
       "      <td>4.000000</td>\n",
       "      <td>0.235000</td>\n",
       "    </tr>\n",
       "    <tr>\n",
       "      <th>max</th>\n",
       "      <td>65.000000</td>\n",
       "      <td>5.000000</td>\n",
       "      <td>43.000000</td>\n",
       "      <td>4.000000</td>\n",
       "      <td>74.000000</td>\n",
       "      <td>2.000000</td>\n",
       "      <td>5.000000</td>\n",
       "      <td>10.000000</td>\n",
       "      <td>5.000000</td>\n",
       "      <td>5.000000</td>\n",
       "      <td>1.608100</td>\n",
       "      <td>1.868800</td>\n",
       "      <td>3.000000</td>\n",
       "      <td>5.000000</td>\n",
       "      <td>9.000000</td>\n",
       "      <td>5.000000</td>\n",
       "      <td>0.995900</td>\n",
       "    </tr>\n",
       "  </tbody>\n",
       "</table>\n",
       "</div>"
      ],
      "text/plain": [
       "               Age  Education_Level  Time_of_service  Time_since_promotion  \\\n",
       "count  6588.000000      7000.000000      6856.000000           7000.000000   \n",
       "mean     39.622799         3.187857        13.385064              2.367143   \n",
       "std      13.606920         1.065102        10.364188              1.149395   \n",
       "min      19.000000         1.000000         0.000000              0.000000   \n",
       "25%      27.000000         3.000000         5.000000              1.000000   \n",
       "50%      37.000000         3.000000        10.000000              2.000000   \n",
       "75%      52.000000         4.000000        21.000000              3.000000   \n",
       "max      65.000000         5.000000        43.000000              4.000000   \n",
       "\n",
       "       growth_rate  Travel_Rate   Post_Level    Pay_Scale  Work_Life_balance  \\\n",
       "count  7000.000000  7000.000000  7000.000000  6991.000000        6989.000000   \n",
       "mean     47.064286     0.817857     2.798000     6.006294           2.387895   \n",
       "std      15.761406     0.648205     1.163721     2.058435           1.122786   \n",
       "min      20.000000     0.000000     1.000000     1.000000           1.000000   \n",
       "25%      33.000000     0.000000     2.000000     5.000000           1.000000   \n",
       "50%      47.000000     1.000000     3.000000     6.000000           2.000000   \n",
       "75%      61.000000     1.000000     3.000000     8.000000           3.000000   \n",
       "max      74.000000     2.000000     5.000000    10.000000           5.000000   \n",
       "\n",
       "              VAR1         VAR2         VAR3         VAR4         VAR5  \\\n",
       "count  7000.000000  6423.000000  7000.000000  6344.000000  7000.000000   \n",
       "mean      3.098571    -0.008126    -0.013606     1.891078     2.834143   \n",
       "std       0.836377     0.989850     0.986933     0.529403     0.938945   \n",
       "min       1.000000    -1.817600    -2.776200     1.000000     1.000000   \n",
       "25%       3.000000    -0.961200    -0.453700     2.000000     2.000000   \n",
       "50%       3.000000    -0.104800    -0.453700     2.000000     3.000000   \n",
       "75%       3.000000     0.751600     0.707500     2.000000     3.000000   \n",
       "max       5.000000     1.608100     1.868800     3.000000     5.000000   \n",
       "\n",
       "              VAR6         VAR7  Attrition_rate  \n",
       "count  7000.000000  7000.000000     7000.000000  \n",
       "mean      7.101286     3.257000        0.189376  \n",
       "std       1.164262     0.925319        0.185753  \n",
       "min       5.000000     1.000000        0.000000  \n",
       "25%       6.000000     3.000000        0.070400  \n",
       "50%       7.000000     3.000000        0.142650  \n",
       "75%       8.000000     4.000000        0.235000  \n",
       "max       9.000000     5.000000        0.995900  "
      ]
     },
     "execution_count": 10,
     "metadata": {},
     "output_type": "execute_result"
    }
   ],
   "source": [
    "train.describe()\n"
   ]
  },
  {
   "cell_type": "markdown",
   "metadata": {
    "id": "0pNp0HwvC4cV"
   },
   "source": [
    "## Task2: Get information about the training data set using the describe function"
   ]
  },
  {
   "cell_type": "code",
   "execution_count": 11,
   "metadata": {
    "colab": {
     "base_uri": "https://localhost:8080/",
     "height": 314
    },
    "id": "9ySxpstZBibr",
    "outputId": "a6fb3863-f94f-49d3-ce1e-90976690e995"
   },
   "outputs": [
    {
     "data": {
      "text/html": [
       "<div>\n",
       "<style scoped>\n",
       "    .dataframe tbody tr th:only-of-type {\n",
       "        vertical-align: middle;\n",
       "    }\n",
       "\n",
       "    .dataframe tbody tr th {\n",
       "        vertical-align: top;\n",
       "    }\n",
       "\n",
       "    .dataframe thead th {\n",
       "        text-align: right;\n",
       "    }\n",
       "</style>\n",
       "<table border=\"1\" class=\"dataframe\">\n",
       "  <thead>\n",
       "    <tr style=\"text-align: right;\">\n",
       "      <th></th>\n",
       "      <th>Age</th>\n",
       "      <th>Education_Level</th>\n",
       "      <th>Time_of_service</th>\n",
       "      <th>Time_since_promotion</th>\n",
       "      <th>growth_rate</th>\n",
       "      <th>Travel_Rate</th>\n",
       "      <th>Post_Level</th>\n",
       "      <th>Pay_Scale</th>\n",
       "      <th>Work_Life_balance</th>\n",
       "      <th>VAR1</th>\n",
       "      <th>VAR2</th>\n",
       "      <th>VAR3</th>\n",
       "      <th>VAR4</th>\n",
       "      <th>VAR5</th>\n",
       "      <th>VAR6</th>\n",
       "      <th>VAR7</th>\n",
       "      <th>Attrition_rate</th>\n",
       "    </tr>\n",
       "  </thead>\n",
       "  <tbody>\n",
       "    <tr>\n",
       "      <th>count</th>\n",
       "      <td>6588.000000</td>\n",
       "      <td>7000.000000</td>\n",
       "      <td>6856.000000</td>\n",
       "      <td>7000.000000</td>\n",
       "      <td>7000.000000</td>\n",
       "      <td>7000.000000</td>\n",
       "      <td>7000.000000</td>\n",
       "      <td>6991.000000</td>\n",
       "      <td>6989.000000</td>\n",
       "      <td>7000.000000</td>\n",
       "      <td>6423.000000</td>\n",
       "      <td>7000.000000</td>\n",
       "      <td>6344.000000</td>\n",
       "      <td>7000.000000</td>\n",
       "      <td>7000.000000</td>\n",
       "      <td>7000.000000</td>\n",
       "      <td>7000.000000</td>\n",
       "    </tr>\n",
       "    <tr>\n",
       "      <th>mean</th>\n",
       "      <td>39.622799</td>\n",
       "      <td>3.187857</td>\n",
       "      <td>13.385064</td>\n",
       "      <td>2.367143</td>\n",
       "      <td>47.064286</td>\n",
       "      <td>0.817857</td>\n",
       "      <td>2.798000</td>\n",
       "      <td>6.006294</td>\n",
       "      <td>2.387895</td>\n",
       "      <td>3.098571</td>\n",
       "      <td>-0.008126</td>\n",
       "      <td>-0.013606</td>\n",
       "      <td>1.891078</td>\n",
       "      <td>2.834143</td>\n",
       "      <td>7.101286</td>\n",
       "      <td>3.257000</td>\n",
       "      <td>0.189376</td>\n",
       "    </tr>\n",
       "    <tr>\n",
       "      <th>std</th>\n",
       "      <td>13.606920</td>\n",
       "      <td>1.065102</td>\n",
       "      <td>10.364188</td>\n",
       "      <td>1.149395</td>\n",
       "      <td>15.761406</td>\n",
       "      <td>0.648205</td>\n",
       "      <td>1.163721</td>\n",
       "      <td>2.058435</td>\n",
       "      <td>1.122786</td>\n",
       "      <td>0.836377</td>\n",
       "      <td>0.989850</td>\n",
       "      <td>0.986933</td>\n",
       "      <td>0.529403</td>\n",
       "      <td>0.938945</td>\n",
       "      <td>1.164262</td>\n",
       "      <td>0.925319</td>\n",
       "      <td>0.185753</td>\n",
       "    </tr>\n",
       "    <tr>\n",
       "      <th>min</th>\n",
       "      <td>19.000000</td>\n",
       "      <td>1.000000</td>\n",
       "      <td>0.000000</td>\n",
       "      <td>0.000000</td>\n",
       "      <td>20.000000</td>\n",
       "      <td>0.000000</td>\n",
       "      <td>1.000000</td>\n",
       "      <td>1.000000</td>\n",
       "      <td>1.000000</td>\n",
       "      <td>1.000000</td>\n",
       "      <td>-1.817600</td>\n",
       "      <td>-2.776200</td>\n",
       "      <td>1.000000</td>\n",
       "      <td>1.000000</td>\n",
       "      <td>5.000000</td>\n",
       "      <td>1.000000</td>\n",
       "      <td>0.000000</td>\n",
       "    </tr>\n",
       "    <tr>\n",
       "      <th>25%</th>\n",
       "      <td>27.000000</td>\n",
       "      <td>3.000000</td>\n",
       "      <td>5.000000</td>\n",
       "      <td>1.000000</td>\n",
       "      <td>33.000000</td>\n",
       "      <td>0.000000</td>\n",
       "      <td>2.000000</td>\n",
       "      <td>5.000000</td>\n",
       "      <td>1.000000</td>\n",
       "      <td>3.000000</td>\n",
       "      <td>-0.961200</td>\n",
       "      <td>-0.453700</td>\n",
       "      <td>2.000000</td>\n",
       "      <td>2.000000</td>\n",
       "      <td>6.000000</td>\n",
       "      <td>3.000000</td>\n",
       "      <td>0.070400</td>\n",
       "    </tr>\n",
       "    <tr>\n",
       "      <th>50%</th>\n",
       "      <td>37.000000</td>\n",
       "      <td>3.000000</td>\n",
       "      <td>10.000000</td>\n",
       "      <td>2.000000</td>\n",
       "      <td>47.000000</td>\n",
       "      <td>1.000000</td>\n",
       "      <td>3.000000</td>\n",
       "      <td>6.000000</td>\n",
       "      <td>2.000000</td>\n",
       "      <td>3.000000</td>\n",
       "      <td>-0.104800</td>\n",
       "      <td>-0.453700</td>\n",
       "      <td>2.000000</td>\n",
       "      <td>3.000000</td>\n",
       "      <td>7.000000</td>\n",
       "      <td>3.000000</td>\n",
       "      <td>0.142650</td>\n",
       "    </tr>\n",
       "    <tr>\n",
       "      <th>75%</th>\n",
       "      <td>52.000000</td>\n",
       "      <td>4.000000</td>\n",
       "      <td>21.000000</td>\n",
       "      <td>3.000000</td>\n",
       "      <td>61.000000</td>\n",
       "      <td>1.000000</td>\n",
       "      <td>3.000000</td>\n",
       "      <td>8.000000</td>\n",
       "      <td>3.000000</td>\n",
       "      <td>3.000000</td>\n",
       "      <td>0.751600</td>\n",
       "      <td>0.707500</td>\n",
       "      <td>2.000000</td>\n",
       "      <td>3.000000</td>\n",
       "      <td>8.000000</td>\n",
       "      <td>4.000000</td>\n",
       "      <td>0.235000</td>\n",
       "    </tr>\n",
       "    <tr>\n",
       "      <th>max</th>\n",
       "      <td>65.000000</td>\n",
       "      <td>5.000000</td>\n",
       "      <td>43.000000</td>\n",
       "      <td>4.000000</td>\n",
       "      <td>74.000000</td>\n",
       "      <td>2.000000</td>\n",
       "      <td>5.000000</td>\n",
       "      <td>10.000000</td>\n",
       "      <td>5.000000</td>\n",
       "      <td>5.000000</td>\n",
       "      <td>1.608100</td>\n",
       "      <td>1.868800</td>\n",
       "      <td>3.000000</td>\n",
       "      <td>5.000000</td>\n",
       "      <td>9.000000</td>\n",
       "      <td>5.000000</td>\n",
       "      <td>0.995900</td>\n",
       "    </tr>\n",
       "  </tbody>\n",
       "</table>\n",
       "</div>"
      ],
      "text/plain": [
       "               Age  Education_Level  Time_of_service  Time_since_promotion  \\\n",
       "count  6588.000000      7000.000000      6856.000000           7000.000000   \n",
       "mean     39.622799         3.187857        13.385064              2.367143   \n",
       "std      13.606920         1.065102        10.364188              1.149395   \n",
       "min      19.000000         1.000000         0.000000              0.000000   \n",
       "25%      27.000000         3.000000         5.000000              1.000000   \n",
       "50%      37.000000         3.000000        10.000000              2.000000   \n",
       "75%      52.000000         4.000000        21.000000              3.000000   \n",
       "max      65.000000         5.000000        43.000000              4.000000   \n",
       "\n",
       "       growth_rate  Travel_Rate   Post_Level    Pay_Scale  Work_Life_balance  \\\n",
       "count  7000.000000  7000.000000  7000.000000  6991.000000        6989.000000   \n",
       "mean     47.064286     0.817857     2.798000     6.006294           2.387895   \n",
       "std      15.761406     0.648205     1.163721     2.058435           1.122786   \n",
       "min      20.000000     0.000000     1.000000     1.000000           1.000000   \n",
       "25%      33.000000     0.000000     2.000000     5.000000           1.000000   \n",
       "50%      47.000000     1.000000     3.000000     6.000000           2.000000   \n",
       "75%      61.000000     1.000000     3.000000     8.000000           3.000000   \n",
       "max      74.000000     2.000000     5.000000    10.000000           5.000000   \n",
       "\n",
       "              VAR1         VAR2         VAR3         VAR4         VAR5  \\\n",
       "count  7000.000000  6423.000000  7000.000000  6344.000000  7000.000000   \n",
       "mean      3.098571    -0.008126    -0.013606     1.891078     2.834143   \n",
       "std       0.836377     0.989850     0.986933     0.529403     0.938945   \n",
       "min       1.000000    -1.817600    -2.776200     1.000000     1.000000   \n",
       "25%       3.000000    -0.961200    -0.453700     2.000000     2.000000   \n",
       "50%       3.000000    -0.104800    -0.453700     2.000000     3.000000   \n",
       "75%       3.000000     0.751600     0.707500     2.000000     3.000000   \n",
       "max       5.000000     1.608100     1.868800     3.000000     5.000000   \n",
       "\n",
       "              VAR6         VAR7  Attrition_rate  \n",
       "count  7000.000000  7000.000000     7000.000000  \n",
       "mean      7.101286     3.257000        0.189376  \n",
       "std       1.164262     0.925319        0.185753  \n",
       "min       5.000000     1.000000        0.000000  \n",
       "25%       6.000000     3.000000        0.070400  \n",
       "50%       7.000000     3.000000        0.142650  \n",
       "75%       8.000000     4.000000        0.235000  \n",
       "max       9.000000     5.000000        0.995900  "
      ]
     },
     "execution_count": 11,
     "metadata": {},
     "output_type": "execute_result"
    }
   ],
   "source": [
    "#Here is the description of the train data too\n",
    "train.describe()\n"
   ]
  },
  {
   "cell_type": "code",
   "execution_count": 12,
   "metadata": {
    "colab": {
     "base_uri": "https://localhost:8080/"
    },
    "id": "VNSgkpGhBylQ",
    "outputId": "9456e35c-6aba-48d7-80b8-f7fc1a552a13"
   },
   "outputs": [
    {
     "data": {
      "text/plain": [
       "Employee_ID                  False\n",
       "Gender                       False\n",
       "Age                           True\n",
       "Education_Level              False\n",
       "Relationship_Status          False\n",
       "Hometown                     False\n",
       "Unit                         False\n",
       "Decision_skill_possess       False\n",
       "Time_of_service               True\n",
       "Time_since_promotion         False\n",
       "growth_rate                  False\n",
       "Travel_Rate                  False\n",
       "Post_Level                   False\n",
       "Pay_Scale                     True\n",
       "Compensation_and_Benefits    False\n",
       "Work_Life_balance             True\n",
       "VAR1                         False\n",
       "VAR2                          True\n",
       "VAR3                         False\n",
       "VAR4                          True\n",
       "VAR5                         False\n",
       "VAR6                         False\n",
       "VAR7                         False\n",
       "Attrition_rate               False\n",
       "dtype: bool"
      ]
     },
     "execution_count": 12,
     "metadata": {},
     "output_type": "execute_result"
    }
   ],
   "source": [
    "# Let's see if training set has any missing values\n",
    "train.isna().any()"
   ]
  },
  {
   "cell_type": "markdown",
   "metadata": {
    "id": "onO3KLorD8R8"
   },
   "source": [
    "### Data Visualization\n",
    "\n",
    "Now, let us see the correlation matrix to see how related are the features."
   ]
  },
  {
   "cell_type": "code",
   "execution_count": 13,
   "metadata": {
    "colab": {
     "base_uri": "https://localhost:8080/",
     "height": 597
    },
    "id": "7AD5fiGICINO",
    "outputId": "a0324761-a2a4-4bea-be12-c507d583e527"
   },
   "outputs": [
    {
     "data": {
      "image/png": "[encoded data removed]",
      "text/plain": [
       "<Figure size 1296x720 with 2 Axes>"
      ]
     },
     "metadata": {
      "needs_background": "light"
     },
     "output_type": "display_data"
    },
    {
     "data": {
      "text/plain": [
       "<Figure size 432x288 with 0 Axes>"
      ]
     },
     "metadata": {},
     "output_type": "display_data"
    }
   ],
   "source": [
    "plt.figure(figsize=(18,10))\n",
    "cor = train.corr()\n",
    "sns.heatmap(cor, annot=True, cmap=plt.cm.Accent)\n",
    "plt.show()\n",
    "plt.savefig(\"main_correlation.png\")"
   ]
  },
  {
   "cell_type": "markdown",
   "metadata": {
    "id": "UMn9li18E7CU"
   },
   "source": [
    "### Preparing the model\n",
    "\n",
    "Now we will finalize the data for the training and prepare the model."
   ]
  },
  {
   "cell_type": "code",
   "execution_count": 50,
   "metadata": {
    "id": "UlskIaq1EIct"
   },
   "outputs": [],
   "source": [
    "#Attrition_rate is the label or output to be predicted\n",
    "#features will be used to predict Attrition_rate\n",
    "label = [\"Attrition_rate\"]\n",
    "features = ['VAR7','VAR6','VAR5','VAR1','VAR3','growth_rate','Time_of_service','Time_since_promotion','Travel_Rate','Post_Level','Education_Level']\n"
   ]
  },
  {
   "cell_type": "code",
   "execution_count": 51,
   "metadata": {
    "colab": {
     "base_uri": "https://localhost:8080/"
    },
    "id": "-8gY91pCFQZR",
    "outputId": "3db6ea05-f56b-482a-c437-ac8d241d2d9d"
   },
   "outputs": [
    {
     "data": {
      "text/plain": [
       "(6856, 12)"
      ]
     },
     "execution_count": 51,
     "metadata": {},
     "output_type": "execute_result"
    }
   ],
   "source": [
    "featured_data = train.loc[:,features+label]\n",
    "#We will drop the columns here which have missing values using dropna function\n",
    "featured_data = featured_data.dropna(axis=0)\n",
    "featured_data.shape"
   ]
  },
  {
   "cell_type": "code",
   "execution_count": 52,
   "metadata": {
    "id": "8KBBjKtlFTIf"
   },
   "outputs": [],
   "source": [
    "X = featured_data.loc[:,features]\n",
    "y = featured_data.loc[:,label]"
   ]
  },
  {
   "cell_type": "code",
   "execution_count": 53,
   "metadata": {
    "id": "WqzHfmYFFl6o"
   },
   "outputs": [],
   "source": [
    "#Here the training and test data are split 55% to 45% as test size is 0.55 \n",
    "# Here the test size is 55% because model is giving good accuracy on bigger test size also. It completely depends on the model, \n",
    "# if the developer feels positive about the results then they go give with bigger test size.Experimentation is the key to understand the model.\n",
    "X_train,X_test,y_train,y_test = train_test_split(X,y,random_state=1,test_size=0.55)"
   ]
  },
  {
   "cell_type": "code",
   "execution_count": 54,
   "metadata": {
    "id": "rHA8vcJgFcMA"
   },
   "outputs": [],
   "source": [
    "#df = Ridge(alpha=0.000001)\n",
    "df = LinearRegression()\n",
    "df.fit(X_train,y_train)\n",
    "y_pred = df.predict(X_test)\n",
    "c=[]\n",
    "for i in range(len(y_pred)):\n",
    "    c.append((y_pred[i][0].round(5)))\n",
    "pf=c[:3000]\n"
   ]
  },
  {
   "cell_type": "code",
   "execution_count": 65,
   "metadata": {},
   "outputs": [
    {
     "data": {
      "text/plain": [
       "3771"
      ]
     },
     "execution_count": 65,
     "metadata": {},
     "output_type": "execute_result"
    }
   ],
   "source": [
    "len(y_pred)\n"
   ]
  },
  {
   "cell_type": "code",
   "execution_count": 66,
   "metadata": {
    "colab": {
     "base_uri": "https://localhost:8080/"
    },
    "id": "P-OSoWuGFh_2",
    "outputId": "ba72f2b3-692b-4778-984f-f5126726418e"
   },
   "outputs": [
    {
     "name": "stdout",
     "output_type": "stream",
     "text": [
      "96.72970811621633\n"
     ]
    }
   ],
   "source": [
    "#Let's print the accuracy now\n",
    "score = 100* max(0, 1-mean_squared_error(y_test, y_pred))\n",
    "print(score)"
   ]
  },
  {
   "cell_type": "code",
   "execution_count": 68,
   "metadata": {},
   "outputs": [
    {
     "data": {
      "text/plain": [
       "3000"
      ]
     },
     "execution_count": 68,
     "metadata": {},
     "output_type": "execute_result"
    }
   ],
   "source": [
    "len(pf)"
   ]
  },
  {
   "cell_type": "code",
   "execution_count": 57,
   "metadata": {
    "colab": {
     "base_uri": "https://localhost:8080/",
     "height": 202
    },
    "id": "jhB__hobF0QG",
    "outputId": "04b8dd1c-b6fb-40e0-ffd3-3301c0145c56"
   },
   "outputs": [
    {
     "data": {
      "text/html": [
       "<div>\n",
       "<style scoped>\n",
       "    .dataframe tbody tr th:only-of-type {\n",
       "        vertical-align: middle;\n",
       "    }\n",
       "\n",
       "    .dataframe tbody tr th {\n",
       "        vertical-align: top;\n",
       "    }\n",
       "\n",
       "    .dataframe thead th {\n",
       "        text-align: right;\n",
       "    }\n",
       "</style>\n",
       "<table border=\"1\" class=\"dataframe\">\n",
       "  <thead>\n",
       "    <tr style=\"text-align: right;\">\n",
       "      <th></th>\n",
       "      <th>Employee_ID</th>\n",
       "      <th>Attrition_rate</th>\n",
       "    </tr>\n",
       "  </thead>\n",
       "  <tbody>\n",
       "    <tr>\n",
       "      <th>0</th>\n",
       "      <td>EID_22713</td>\n",
       "      <td>0.18662</td>\n",
       "    </tr>\n",
       "    <tr>\n",
       "      <th>1</th>\n",
       "      <td>EID_9658</td>\n",
       "      <td>0.20435</td>\n",
       "    </tr>\n",
       "    <tr>\n",
       "      <th>2</th>\n",
       "      <td>EID_22203</td>\n",
       "      <td>0.20973</td>\n",
       "    </tr>\n",
       "    <tr>\n",
       "      <th>3</th>\n",
       "      <td>EID_7652</td>\n",
       "      <td>0.20025</td>\n",
       "    </tr>\n",
       "    <tr>\n",
       "      <th>4</th>\n",
       "      <td>EID_6516</td>\n",
       "      <td>0.17774</td>\n",
       "    </tr>\n",
       "  </tbody>\n",
       "</table>\n",
       "</div>"
      ],
      "text/plain": [
       "  Employee_ID  Attrition_rate\n",
       "0   EID_22713         0.18662\n",
       "1    EID_9658         0.20435\n",
       "2   EID_22203         0.20973\n",
       "3    EID_7652         0.20025\n",
       "4    EID_6516         0.17774"
      ]
     },
     "execution_count": 57,
     "metadata": {},
     "output_type": "execute_result"
    }
   ],
   "source": [
    "#Predicting\n",
    "import pandas as pd\n",
    "dff = pd.DataFrame({'Employee_ID':test['Employee_ID'],'Attrition_rate':pf})\n",
    "dff.head()"
   ]
  },
  {
   "cell_type": "markdown",
   "metadata": {
    "id": "kB06o_GGF7zn"
   },
   "source": [
    "## Task 3: Print the first 20 columns of predictions\n"
   ]
  },
  {
   "cell_type": "code",
   "execution_count": 22,
   "metadata": {
    "colab": {
     "base_uri": "https://localhost:8080/",
     "height": 662
    },
    "id": "fIQY5JWcF5kV",
    "outputId": "966d2a82-66a7-452f-fb50-60442deadfed"
   },
   "outputs": [
    {
     "data": {
      "text/html": [
       "<div>\n",
       "<style scoped>\n",
       "    .dataframe tbody tr th:only-of-type {\n",
       "        vertical-align: middle;\n",
       "    }\n",
       "\n",
       "    .dataframe tbody tr th {\n",
       "        vertical-align: top;\n",
       "    }\n",
       "\n",
       "    .dataframe thead th {\n",
       "        text-align: right;\n",
       "    }\n",
       "</style>\n",
       "<table border=\"1\" class=\"dataframe\">\n",
       "  <thead>\n",
       "    <tr style=\"text-align: right;\">\n",
       "      <th></th>\n",
       "      <th>Employee_ID</th>\n",
       "      <th>Attrition_rate</th>\n",
       "    </tr>\n",
       "  </thead>\n",
       "  <tbody>\n",
       "    <tr>\n",
       "      <th>0</th>\n",
       "      <td>EID_22713</td>\n",
       "      <td>0.19442</td>\n",
       "    </tr>\n",
       "    <tr>\n",
       "      <th>1</th>\n",
       "      <td>EID_9658</td>\n",
       "      <td>0.20012</td>\n",
       "    </tr>\n",
       "    <tr>\n",
       "      <th>2</th>\n",
       "      <td>EID_22203</td>\n",
       "      <td>0.20922</td>\n",
       "    </tr>\n",
       "    <tr>\n",
       "      <th>3</th>\n",
       "      <td>EID_7652</td>\n",
       "      <td>0.19760</td>\n",
       "    </tr>\n",
       "    <tr>\n",
       "      <th>4</th>\n",
       "      <td>EID_6516</td>\n",
       "      <td>0.17785</td>\n",
       "    </tr>\n",
       "    <tr>\n",
       "      <th>5</th>\n",
       "      <td>EID_20283</td>\n",
       "      <td>0.19640</td>\n",
       "    </tr>\n",
       "    <tr>\n",
       "      <th>6</th>\n",
       "      <td>EID_21014</td>\n",
       "      <td>0.18631</td>\n",
       "    </tr>\n",
       "    <tr>\n",
       "      <th>7</th>\n",
       "      <td>EID_7693</td>\n",
       "      <td>0.18392</td>\n",
       "    </tr>\n",
       "    <tr>\n",
       "      <th>8</th>\n",
       "      <td>EID_13232</td>\n",
       "      <td>0.19467</td>\n",
       "    </tr>\n",
       "    <tr>\n",
       "      <th>9</th>\n",
       "      <td>EID_6515</td>\n",
       "      <td>0.19859</td>\n",
       "    </tr>\n",
       "    <tr>\n",
       "      <th>10</th>\n",
       "      <td>EID_13639</td>\n",
       "      <td>0.20695</td>\n",
       "    </tr>\n",
       "    <tr>\n",
       "      <th>11</th>\n",
       "      <td>EID_14669</td>\n",
       "      <td>0.19410</td>\n",
       "    </tr>\n",
       "    <tr>\n",
       "      <th>12</th>\n",
       "      <td>EID_16537</td>\n",
       "      <td>0.18634</td>\n",
       "    </tr>\n",
       "    <tr>\n",
       "      <th>13</th>\n",
       "      <td>EID_5782</td>\n",
       "      <td>0.16214</td>\n",
       "    </tr>\n",
       "    <tr>\n",
       "      <th>14</th>\n",
       "      <td>EID_20157</td>\n",
       "      <td>0.20632</td>\n",
       "    </tr>\n",
       "    <tr>\n",
       "      <th>15</th>\n",
       "      <td>EID_1855</td>\n",
       "      <td>0.18643</td>\n",
       "    </tr>\n",
       "    <tr>\n",
       "      <th>16</th>\n",
       "      <td>EID_20748</td>\n",
       "      <td>0.20335</td>\n",
       "    </tr>\n",
       "    <tr>\n",
       "      <th>17</th>\n",
       "      <td>EID_23179</td>\n",
       "      <td>0.17675</td>\n",
       "    </tr>\n",
       "    <tr>\n",
       "      <th>18</th>\n",
       "      <td>EID_12838</td>\n",
       "      <td>0.17948</td>\n",
       "    </tr>\n",
       "    <tr>\n",
       "      <th>19</th>\n",
       "      <td>EID_21656</td>\n",
       "      <td>0.17822</td>\n",
       "    </tr>\n",
       "  </tbody>\n",
       "</table>\n",
       "</div>"
      ],
      "text/plain": [
       "   Employee_ID  Attrition_rate\n",
       "0    EID_22713         0.19442\n",
       "1     EID_9658         0.20012\n",
       "2    EID_22203         0.20922\n",
       "3     EID_7652         0.19760\n",
       "4     EID_6516         0.17785\n",
       "5    EID_20283         0.19640\n",
       "6    EID_21014         0.18631\n",
       "7     EID_7693         0.18392\n",
       "8    EID_13232         0.19467\n",
       "9     EID_6515         0.19859\n",
       "10   EID_13639         0.20695\n",
       "11   EID_14669         0.19410\n",
       "12   EID_16537         0.18634\n",
       "13    EID_5782         0.16214\n",
       "14   EID_20157         0.20632\n",
       "15    EID_1855         0.18643\n",
       "16   EID_20748         0.20335\n",
       "17   EID_23179         0.17675\n",
       "18   EID_12838         0.17948\n",
       "19   EID_21656         0.17822"
      ]
     },
     "execution_count": 22,
     "metadata": {},
     "output_type": "execute_result"
    }
   ],
   "source": [
    "dff.head(20)"
   ]
  },
  {
   "cell_type": "markdown",
   "metadata": {
    "id": "ZGdw47ChGG8I"
   },
   "source": [
    "### Conclusion\n",
    "\n",
    "In this notebook, we have seen how AI can be used by companies to predict which employess would be loyal to them. We have bulit a linear regression model to predict the attrition rate."
   ]
  },
  {
   "cell_type": "code",
   "execution_count": null,
   "metadata": {
    "id": "49Nou6QPGFjj"
   },
   "outputs": [],
   "source": []
  }
 ],
 "metadata": {
  "colab": {
   "name": "[Notebook - Coach] Module 11 (Employee Attrition Prediction).ipynb",
   "provenance": [],
   "toc_visible": true
  },
  "kernelspec": {
   "display_name": "Python 3 (ipykernel)",
   "language": "python",
   "name": "python3"
  },
  "language_info": {
   "codemirror_mode": {
    "name": "ipython",
    "version": 3
   },
   "file_extension": ".py",
   "mimetype": "text/x-python",
   "name": "python",
   "nbconvert_exporter": "python",
   "pygments_lexer": "ipython3",
   "version": "3.9.7"
  },
  "toc": {
   "base_numbering": 1,
   "nav_menu": {},
   "number_sections": true,
   "sideBar": true,
   "skip_h1_title": false,
   "title_cell": "Table of Contents",
   "title_sidebar": "Contents",
   "toc_cell": false,
   "toc_position": {},
   "toc_section_display": true,
   "toc_window_display": false
  }
 },
 "nbformat": 4,
 "nbformat_minor": 1
}
